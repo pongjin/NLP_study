{
 "cells": [
  {
   "cell_type": "code",
   "execution_count": 1,
   "id": "d5ee67e9",
   "metadata": {},
   "outputs": [],
   "source": [
    "from konlpy.tag import Mecab\n",
    "from konlpy.tag import Okt"
   ]
  },
  {
   "cell_type": "code",
   "execution_count": 2,
   "id": "8c785278",
   "metadata": {},
   "outputs": [],
   "source": [
    "mecab = Mecab.Mecab()\n",
    "okt = Okt()"
   ]
  },
  {
   "cell_type": "code",
   "execution_count": 3,
   "id": "d2c31e66",
   "metadata": {
    "scrolled": true
   },
   "outputs": [
    {
     "name": "stdout",
     "output_type": "stream",
     "text": [
      "['드디어', '설치', '완료']\n",
      "\n"
     ]
    }
   ],
   "source": [
    "words = '드디어 설치 완료'\n",
    "print(mecab.morphs(words))\n",
    "print()"
   ]
  },
  {
   "cell_type": "markdown",
   "id": "c7ed2fa1",
   "metadata": {},
   "source": [
    "# 사전훈련모델\n",
    "## 1. w2v"
   ]
  },
  {
   "cell_type": "code",
   "execution_count": 1,
   "id": "b58fa3d0",
   "metadata": {},
   "outputs": [],
   "source": [
    "from models.word_eval import WordEmbeddingEvaluator"
   ]
  },
  {
   "cell_type": "code",
   "execution_count": 2,
   "id": "e289cae3",
   "metadata": {},
   "outputs": [],
   "source": [
    "model = WordEmbeddingEvaluator('/Users/user/Desktop/2023_NLP/word-embeddings/word2vec/word2vec',\n",
    "                               method = 'word2vec',dim=100,\n",
    "                               tokenizer_name=\"mecab\")"
   ]
  },
  {
   "cell_type": "code",
   "execution_count": 21,
   "id": "9646b260",
   "metadata": {},
   "outputs": [
    {
     "data": {
      "text/plain": [
       "[('원료', 0.8198371383920555),\n",
       " ('석유화학공업', 0.8138662623617606),\n",
       " ('공업품', 0.7933079173052008),\n",
       " ('화학제품', 0.7791531508633451),\n",
       " ('석탄', 0.765735925204949)]"
      ]
     },
     "execution_count": 21,
     "metadata": {},
     "output_type": "execute_result"
    }
   ],
   "source": [
    "model.most_similar('비료',topn=5)"
   ]
  },
  {
   "cell_type": "code",
   "execution_count": 4,
   "id": "ff1714c8",
   "metadata": {},
   "outputs": [
    {
     "name": "stdout",
     "output_type": "stream",
     "text": [
      "[('버무렸', 0.724304), ('망처', 0.72103703), ('유리컵', 0.7150936), ('부어도', 0.7124469), ('탱글탱글', 0.71235305)]\n",
      "[('가능', 0.70852953), ('확실', 0.6523798), ('지펴', 0.6465125), ('해지므로', 0.63637966), ('충분', 0.6193005)]\n"
     ]
    }
   ],
   "source": [
    "print(model.most_similar('물',topn=5))\n",
    "print(model.most_similar('불',topn=5))"
   ]
  },
  {
   "cell_type": "code",
   "execution_count": 5,
   "id": "a95fad62",
   "metadata": {
    "scrolled": false
   },
   "outputs": [
    {
     "name": "stderr",
     "output_type": "stream",
     "text": [
      "/opt/anaconda3/lib/python3.7/site-packages/sklearn/manifold/_t_sne.py:783: FutureWarning: The default initialization in TSNE will change from 'random' to 'pca' in 1.2.\n",
      "  FutureWarning,\n",
      "/opt/anaconda3/lib/python3.7/site-packages/sklearn/manifold/_t_sne.py:793: FutureWarning: The default learning rate in TSNE will change from 200.0 to 'auto' in 1.2.\n",
      "  FutureWarning,\n"
     ]
    },
    {
     "name": "stdout",
     "output_type": "stream",
     "text": [
      "save @ /notebooks/embedding/words.png\n"
     ]
    }
   ],
   "source": [
    "model.visualize_words(\"kor2vec/test_dataset/kor_analogy_semantic.txt\")"
   ]
  },
  {
   "cell_type": "code",
   "execution_count": 32,
   "id": "0e8e852e",
   "metadata": {
    "scrolled": true
   },
   "outputs": [],
   "source": [
    "a = model.get_word_vector('비료')"
   ]
  },
  {
   "cell_type": "code",
   "execution_count": 33,
   "id": "a80819a4",
   "metadata": {},
   "outputs": [],
   "source": [
    "b = model.get_word_vector('농업')\n",
    "c = model.get_word_vector('제조업')\n",
    "d = model.get_word_vector('수산업')"
   ]
  },
  {
   "cell_type": "code",
   "execution_count": 34,
   "id": "613b71de",
   "metadata": {},
   "outputs": [],
   "source": [
    "from numpy import dot\n",
    "from numpy.linalg import norm\n",
    "\n",
    "def cos_sim(A, B):\n",
    "  return dot(A, B)/(norm(A)*norm(B))"
   ]
  },
  {
   "cell_type": "code",
   "execution_count": 35,
   "id": "8266e295",
   "metadata": {},
   "outputs": [
    {
     "name": "stdout",
     "output_type": "stream",
     "text": [
      "0.65530974\n",
      "0.7020238\n",
      "0.7016469\n"
     ]
    }
   ],
   "source": [
    "print(cos_sim(a,b))\n",
    "print(cos_sim(a,c))\n",
    "print(cos_sim(a,d))"
   ]
  },
  {
   "cell_type": "markdown",
   "id": "fdb15b38",
   "metadata": {},
   "source": [
    "## 2. Fasttext"
   ]
  },
  {
   "cell_type": "markdown",
   "id": "408dbfb3",
   "metadata": {},
   "source": [
    "### 2-1. fastText with 자음 모음"
   ]
  },
  {
   "cell_type": "code",
   "execution_count": 6,
   "id": "e4e215d6",
   "metadata": {},
   "outputs": [
    {
     "name": "stdout",
     "output_type": "stream",
     "text": [
      "ㄴㅏ- ㄴㅡㄴ ㅎㅏㄱㄱㅛ- ㅇㅔ- ㄱㅏㄴㄷㅏ-\n"
     ]
    }
   ],
   "source": [
    "from preprocess import jamo_sentence, get_tokenizer\n",
    "tokenizer = get_tokenizer('mecab')\n",
    "tokens = \" \".join(tokenizer.morphs('나는 학교에 간다'))\n",
    "print(jamo_sentence(tokens))"
   ]
  },
  {
   "cell_type": "code",
   "execution_count": 7,
   "id": "267e8744",
   "metadata": {},
   "outputs": [
    {
     "name": "stderr",
     "output_type": "stream",
     "text": [
      "Warning : `load_model` does not return WordVectorModel or SupervisedModel any more, but a `FastText` object which is very similar.\n"
     ]
    }
   ],
   "source": [
    "model = WordEmbeddingEvaluator(\n",
    "    vecs_txt_fname='/Users/user/Desktop/2023_NLP/word-embeddings/fasttext-jamo/fasttext-jamo.vec',\n",
    "    vecs_bin_fname='/Users/user/Desktop/2023_NLP/word-embeddings/fasttext-jamo/fasttext-jamo.bin',\n",
    "                               method = 'fasttext-jamo',dim=100,\n",
    "                               tokenizer_name=\"mecab\")"
   ]
  },
  {
   "cell_type": "code",
   "execution_count": 8,
   "id": "f73b5b2b",
   "metadata": {},
   "outputs": [
    {
     "data": {
      "text/plain": [
       "[('원료', 0.8198371383920555),\n",
       " ('석유화학공업', 0.8138662623617606),\n",
       " ('공업품', 0.7933079173052008),\n",
       " ('화학제품', 0.7791531508633451),\n",
       " ('석탄', 0.765735925204949),\n",
       " ('석유', 0.7600546328941455),\n",
       " ('원료당', 0.7566586423317696),\n",
       " ('쇳물', 0.753974018364821),\n",
       " ('중금속', 0.7539163930915063),\n",
       " ('합금철', 0.7514068973326935)]"
      ]
     },
     "execution_count": 8,
     "metadata": {},
     "output_type": "execute_result"
    }
   ],
   "source": [
    "model.most_similar('비료')"
   ]
  },
  {
   "cell_type": "code",
   "execution_count": 10,
   "id": "c49786bc",
   "metadata": {},
   "outputs": [
    {
     "data": {
      "text/plain": [
       "[('원료당', 0.6944668306135714),\n",
       " ('원료', 0.6942631233930889),\n",
       " ('석유화학공업', 0.6922026412091582),\n",
       " ('전기료', 0.6852845969385832),\n",
       " ('질산은', 0.6794218106472224),\n",
       " ('화학차', 0.6737999503018886),\n",
       " ('석유', 0.6706594940145969),\n",
       " ('공업품', 0.6691117240971816),\n",
       " ('비', 0.6690784028391463),\n",
       " ('텅비', 0.6680756734331119)]"
      ]
     },
     "execution_count": 10,
     "metadata": {},
     "output_type": "execute_result"
    }
   ],
   "source": [
    "model.most_similar('비비료')"
   ]
  },
  {
   "cell_type": "code",
   "execution_count": 65,
   "id": "e4f348fa",
   "metadata": {
    "scrolled": true
   },
   "outputs": [
    {
     "data": {
      "text/plain": [
       "[('화합물', 0.8709017266692427),\n",
       " ('착화합물', 0.8708513858764897),\n",
       " ('질산암모늄', 0.8665625783891215),\n",
       " ('탄산암모늄', 0.8631371776414304),\n",
       " ('혼합물', 0.8614903008517234),\n",
       " ('화학제품', 0.8604260007781857),\n",
       " ('수산화물', 0.8601242225638144),\n",
       " ('화학', 0.8573555852467648),\n",
       " ('고분자화합물', 0.8559497465500914),\n",
       " ('탄화칼슘', 0.851602213254578)]"
      ]
     },
     "execution_count": 65,
     "metadata": {},
     "output_type": "execute_result"
    }
   ],
   "source": [
    "model.most_similar('화학 비료 혼합물')"
   ]
  },
  {
   "cell_type": "markdown",
   "id": "776fd519",
   "metadata": {},
   "source": [
    "### 2-2. facebook fastText"
   ]
  },
  {
   "cell_type": "code",
   "execution_count": 17,
   "id": "f9c6b93a",
   "metadata": {},
   "outputs": [],
   "source": [
    "from gensim.models.fasttext import load_facebook_model\n",
    "ft_model = load_facebook_model('cc.ko.300.bin')"
   ]
  },
  {
   "cell_type": "code",
   "execution_count": 21,
   "id": "3408dd04",
   "metadata": {},
   "outputs": [
    {
     "name": "stdout",
     "output_type": "stream",
     "text": [
      "勿: 0.6441857814788818\n",
      "긷는: 0.6348398923873901\n",
      "듀파: 0.6208381652832031\n",
      "물과: 0.6106287837028503\n",
      "물을: 0.6070572733879089\n",
      "누비이: 0.6207259893417358\n",
      "고흔: 0.6122905015945435\n",
      "불을: 0.5806412696838379\n",
      "弗: 0.5779265761375427\n",
      "시팅: 0.5665968656539917\n"
     ]
    }
   ],
   "source": [
    "for i in ['물','불']:\n",
    "    for w,sim in ft_model.wv.similar_by_word(i,5):\n",
    "        print(f'{w}: {sim}')"
   ]
  },
  {
   "cell_type": "code",
   "execution_count": 31,
   "id": "a7561bd8",
   "metadata": {},
   "outputs": [
    {
     "name": "stdout",
     "output_type": "stream",
     "text": [
      "0.4532578\n",
      "0.26094204\n",
      "0.33700103\n",
      "0.43837753\n",
      "0.42647022\n"
     ]
    }
   ],
   "source": [
    "print(ft_model.wv.similarity('농업','비료'))\n",
    "print(ft_model.wv.similarity('제조업','비료'))\n",
    "print(ft_model.wv.similarity('수산업','비료'))\n",
    "print(ft_model.wv.similarity('화학','비료'))\n",
    "print(ft_model.wv.similarity('사료','비료'))"
   ]
  },
  {
   "cell_type": "code",
   "execution_count": 51,
   "id": "0bae2e24",
   "metadata": {},
   "outputs": [
    {
     "name": "stdout",
     "output_type": "stream",
     "text": [
      "0.41942394\n",
      "0.44357845\n",
      "0.38826478\n",
      "0.26769632\n",
      "0.16419122\n"
     ]
    }
   ],
   "source": [
    "print(ft_model.wv.similarity('물','불'))\n",
    "print(ft_model.wv.similarity('불','불꽃'))\n",
    "print(ft_model.wv.similarity('불','화재'))\n",
    "print(ft_model.wv.similarity('불','꽃'))\n",
    "print(ft_model.wv.similarity('불','를'))"
   ]
  },
  {
   "cell_type": "code",
   "execution_count": null,
   "id": "1b39b6c4",
   "metadata": {},
   "outputs": [],
   "source": []
  }
 ],
 "metadata": {
  "kernelspec": {
   "display_name": "Python 3 (ipykernel)",
   "language": "python",
   "name": "python3"
  },
  "language_info": {
   "codemirror_mode": {
    "name": "ipython",
    "version": 3
   },
   "file_extension": ".py",
   "mimetype": "text/x-python",
   "name": "python",
   "nbconvert_exporter": "python",
   "pygments_lexer": "ipython3",
   "version": "3.7.13"
  }
 },
 "nbformat": 4,
 "nbformat_minor": 5
}
